{
 "cells": [
  {
   "cell_type": "markdown",
   "id": "68366712",
   "metadata": {},
   "source": [
    "# 💬 Interactive Chat Interface\n",
    "\n",
    "This notebook creates a Google Colab-compatible chat interface using Gradio. Users can type questions and receive responses in a beautiful chat UI."
   ]
  },
  {
   "cell_type": "markdown",
   "id": "761bf019",
   "metadata": {},
   "source": [
    "## 📦 Import Required Libraries\n",
    "\n",
    "First, let's install and import Gradio for creating the chat interface."
   ]
  },
  {
   "cell_type": "code",
   "execution_count": 1,
   "id": "67b306e1",
   "metadata": {},
   "outputs": [
    {
     "name": "stdout",
     "output_type": "stream",
     "text": [
      "Requirement already satisfied: gradio in ./venv/lib/python3.9/site-packages (4.44.1)\n",
      "Requirement already satisfied: aiofiles<24.0,>=22.0 in ./venv/lib/python3.9/site-packages (from gradio) (23.2.1)\n",
      "Requirement already satisfied: anyio<5.0,>=3.0 in ./venv/lib/python3.9/site-packages (from gradio) (4.9.0)\n",
      "Requirement already satisfied: fastapi<1.0 in ./venv/lib/python3.9/site-packages (from gradio) (0.116.1)\n",
      "Requirement already satisfied: ffmpy in ./venv/lib/python3.9/site-packages (from gradio) (0.6.1)\n",
      "Requirement already satisfied: gradio-client==1.3.0 in ./venv/lib/python3.9/site-packages (from gradio) (1.3.0)\n",
      "Requirement already satisfied: httpx>=0.24.1 in ./venv/lib/python3.9/site-packages (from gradio) (0.28.1)\n",
      "Requirement already satisfied: huggingface-hub>=0.19.3 in ./venv/lib/python3.9/site-packages (from gradio) (0.34.3)\n",
      "Requirement already satisfied: importlib-resources<7.0,>=1.3 in ./venv/lib/python3.9/site-packages (from gradio) (6.5.2)\n",
      "Requirement already satisfied: jinja2<4.0 in ./venv/lib/python3.9/site-packages (from gradio) (3.1.6)\n",
      "Requirement already satisfied: markupsafe~=2.0 in ./venv/lib/python3.9/site-packages (from gradio) (2.1.5)\n",
      "Requirement already satisfied: matplotlib~=3.0 in ./venv/lib/python3.9/site-packages (from gradio) (3.9.4)\n",
      "Requirement already satisfied: numpy<3.0,>=1.0 in ./venv/lib/python3.9/site-packages (from gradio) (2.0.2)\n",
      "Requirement already satisfied: orjson~=3.0 in ./venv/lib/python3.9/site-packages (from gradio) (3.11.0)\n",
      "Requirement already satisfied: packaging in ./venv/lib/python3.9/site-packages (from gradio) (25.0)\n",
      "Requirement already satisfied: pandas<3.0,>=1.0 in ./venv/lib/python3.9/site-packages (from gradio) (2.3.1)\n",
      "Requirement already satisfied: pillow<11.0,>=8.0 in ./venv/lib/python3.9/site-packages (from gradio) (10.4.0)\n",
      "Requirement already satisfied: pydantic>=2.0 in ./venv/lib/python3.9/site-packages (from gradio) (2.11.7)\n",
      "Requirement already satisfied: pydub in ./venv/lib/python3.9/site-packages (from gradio) (0.25.1)\n",
      "Requirement already satisfied: python-multipart>=0.0.9 in ./venv/lib/python3.9/site-packages (from gradio) (0.0.20)\n",
      "Requirement already satisfied: pyyaml<7.0,>=5.0 in ./venv/lib/python3.9/site-packages (from gradio) (6.0.2)\n",
      "Requirement already satisfied: ruff>=0.2.2 in ./venv/lib/python3.9/site-packages (from gradio) (0.12.5)\n",
      "Requirement already satisfied: semantic-version~=2.0 in ./venv/lib/python3.9/site-packages (from gradio) (2.10.0)\n",
      "Requirement already satisfied: tomlkit==0.12.0 in ./venv/lib/python3.9/site-packages (from gradio) (0.12.0)\n",
      "Requirement already satisfied: typer<1.0,>=0.12 in ./venv/lib/python3.9/site-packages (from gradio) (0.16.0)\n",
      "Requirement already satisfied: typing-extensions~=4.0 in ./venv/lib/python3.9/site-packages (from gradio) (4.14.1)\n",
      "Requirement already satisfied: urllib3~=2.0 in ./venv/lib/python3.9/site-packages (from gradio) (2.5.0)\n",
      "Requirement already satisfied: uvicorn>=0.14.0 in ./venv/lib/python3.9/site-packages (from gradio) (0.35.0)\n",
      "Requirement already satisfied: fsspec in ./venv/lib/python3.9/site-packages (from gradio-client==1.3.0->gradio) (2025.7.0)\n",
      "Requirement already satisfied: websockets<13.0,>=10.0 in ./venv/lib/python3.9/site-packages (from gradio-client==1.3.0->gradio) (12.0)\n",
      "Requirement already satisfied: exceptiongroup>=1.0.2 in ./venv/lib/python3.9/site-packages (from anyio<5.0,>=3.0->gradio) (1.3.0)\n",
      "Requirement already satisfied: idna>=2.8 in ./venv/lib/python3.9/site-packages (from anyio<5.0,>=3.0->gradio) (3.10)\n",
      "Requirement already satisfied: sniffio>=1.1 in ./venv/lib/python3.9/site-packages (from anyio<5.0,>=3.0->gradio) (1.3.1)\n",
      "Requirement already satisfied: starlette<0.48.0,>=0.40.0 in ./venv/lib/python3.9/site-packages (from fastapi<1.0->gradio) (0.47.2)\n",
      "Requirement already satisfied: zipp>=3.1.0 in ./venv/lib/python3.9/site-packages (from importlib-resources<7.0,>=1.3->gradio) (3.23.0)\n",
      "Requirement already satisfied: contourpy>=1.0.1 in ./venv/lib/python3.9/site-packages (from matplotlib~=3.0->gradio) (1.3.0)\n",
      "Requirement already satisfied: cycler>=0.10 in ./venv/lib/python3.9/site-packages (from matplotlib~=3.0->gradio) (0.12.1)\n",
      "Requirement already satisfied: fonttools>=4.22.0 in ./venv/lib/python3.9/site-packages (from matplotlib~=3.0->gradio) (4.59.0)\n",
      "Requirement already satisfied: kiwisolver>=1.3.1 in ./venv/lib/python3.9/site-packages (from matplotlib~=3.0->gradio) (1.4.7)\n",
      "Requirement already satisfied: pyparsing>=2.3.1 in ./venv/lib/python3.9/site-packages (from matplotlib~=3.0->gradio) (3.2.3)\n",
      "Requirement already satisfied: python-dateutil>=2.7 in ./venv/lib/python3.9/site-packages (from matplotlib~=3.0->gradio) (2.9.0.post0)\n",
      "Requirement already satisfied: urllib3~=2.0 in ./venv/lib/python3.9/site-packages (from gradio) (2.5.0)\n",
      "Requirement already satisfied: uvicorn>=0.14.0 in ./venv/lib/python3.9/site-packages (from gradio) (0.35.0)\n",
      "Requirement already satisfied: fsspec in ./venv/lib/python3.9/site-packages (from gradio-client==1.3.0->gradio) (2025.7.0)\n",
      "Requirement already satisfied: websockets<13.0,>=10.0 in ./venv/lib/python3.9/site-packages (from gradio-client==1.3.0->gradio) (12.0)\n",
      "Requirement already satisfied: exceptiongroup>=1.0.2 in ./venv/lib/python3.9/site-packages (from anyio<5.0,>=3.0->gradio) (1.3.0)\n",
      "Requirement already satisfied: idna>=2.8 in ./venv/lib/python3.9/site-packages (from anyio<5.0,>=3.0->gradio) (3.10)\n",
      "Requirement already satisfied: sniffio>=1.1 in ./venv/lib/python3.9/site-packages (from anyio<5.0,>=3.0->gradio) (1.3.1)\n",
      "Requirement already satisfied: starlette<0.48.0,>=0.40.0 in ./venv/lib/python3.9/site-packages (from fastapi<1.0->gradio) (0.47.2)\n",
      "Requirement already satisfied: zipp>=3.1.0 in ./venv/lib/python3.9/site-packages (from importlib-resources<7.0,>=1.3->gradio) (3.23.0)\n",
      "Requirement already satisfied: contourpy>=1.0.1 in ./venv/lib/python3.9/site-packages (from matplotlib~=3.0->gradio) (1.3.0)\n",
      "Requirement already satisfied: cycler>=0.10 in ./venv/lib/python3.9/site-packages (from matplotlib~=3.0->gradio) (0.12.1)\n",
      "Requirement already satisfied: fonttools>=4.22.0 in ./venv/lib/python3.9/site-packages (from matplotlib~=3.0->gradio) (4.59.0)\n",
      "Requirement already satisfied: kiwisolver>=1.3.1 in ./venv/lib/python3.9/site-packages (from matplotlib~=3.0->gradio) (1.4.7)\n",
      "Requirement already satisfied: pyparsing>=2.3.1 in ./venv/lib/python3.9/site-packages (from matplotlib~=3.0->gradio) (3.2.3)\n",
      "Requirement already satisfied: python-dateutil>=2.7 in ./venv/lib/python3.9/site-packages (from matplotlib~=3.0->gradio) (2.9.0.post0)\n",
      "Requirement already satisfied: pytz>=2020.1 in ./venv/lib/python3.9/site-packages (from pandas<3.0,>=1.0->gradio) (2025.2)\n",
      "Requirement already satisfied: tzdata>=2022.7 in ./venv/lib/python3.9/site-packages (from pandas<3.0,>=1.0->gradio) (2025.2)\n",
      "Requirement already satisfied: annotated-types>=0.6.0 in ./venv/lib/python3.9/site-packages (from pydantic>=2.0->gradio) (0.7.0)\n",
      "Requirement already satisfied: pydantic-core==2.33.2 in ./venv/lib/python3.9/site-packages (from pydantic>=2.0->gradio) (2.33.2)\n",
      "Requirement already satisfied: typing-inspection>=0.4.0 in ./venv/lib/python3.9/site-packages (from pydantic>=2.0->gradio) (0.4.1)\n",
      "Requirement already satisfied: click>=8.0.0 in ./venv/lib/python3.9/site-packages (from typer<1.0,>=0.12->gradio) (8.1.8)\n",
      "Requirement already satisfied: shellingham>=1.3.0 in ./venv/lib/python3.9/site-packages (from typer<1.0,>=0.12->gradio) (1.5.4)\n",
      "Requirement already satisfied: rich>=10.11.0 in ./venv/lib/python3.9/site-packages (from typer<1.0,>=0.12->gradio) (14.0.0)\n",
      "Requirement already satisfied: certifi in ./venv/lib/python3.9/site-packages (from httpx>=0.24.1->gradio) (2025.7.14)\n",
      "Requirement already satisfied: httpcore==1.* in ./venv/lib/python3.9/site-packages (from httpx>=0.24.1->gradio) (1.0.9)\n",
      "Requirement already satisfied: h11>=0.16 in ./venv/lib/python3.9/site-packages (from httpcore==1.*->httpx>=0.24.1->gradio) (0.16.0)\n",
      "Requirement already satisfied: pytz>=2020.1 in ./venv/lib/python3.9/site-packages (from pandas<3.0,>=1.0->gradio) (2025.2)\n",
      "Requirement already satisfied: tzdata>=2022.7 in ./venv/lib/python3.9/site-packages (from pandas<3.0,>=1.0->gradio) (2025.2)\n",
      "Requirement already satisfied: annotated-types>=0.6.0 in ./venv/lib/python3.9/site-packages (from pydantic>=2.0->gradio) (0.7.0)\n",
      "Requirement already satisfied: pydantic-core==2.33.2 in ./venv/lib/python3.9/site-packages (from pydantic>=2.0->gradio) (2.33.2)\n",
      "Requirement already satisfied: typing-inspection>=0.4.0 in ./venv/lib/python3.9/site-packages (from pydantic>=2.0->gradio) (0.4.1)\n",
      "Requirement already satisfied: click>=8.0.0 in ./venv/lib/python3.9/site-packages (from typer<1.0,>=0.12->gradio) (8.1.8)\n",
      "Requirement already satisfied: shellingham>=1.3.0 in ./venv/lib/python3.9/site-packages (from typer<1.0,>=0.12->gradio) (1.5.4)\n",
      "Requirement already satisfied: rich>=10.11.0 in ./venv/lib/python3.9/site-packages (from typer<1.0,>=0.12->gradio) (14.0.0)\n",
      "Requirement already satisfied: certifi in ./venv/lib/python3.9/site-packages (from httpx>=0.24.1->gradio) (2025.7.14)\n",
      "Requirement already satisfied: httpcore==1.* in ./venv/lib/python3.9/site-packages (from httpx>=0.24.1->gradio) (1.0.9)\n",
      "Requirement already satisfied: h11>=0.16 in ./venv/lib/python3.9/site-packages (from httpcore==1.*->httpx>=0.24.1->gradio) (0.16.0)\n",
      "Requirement already satisfied: filelock in ./venv/lib/python3.9/site-packages (from huggingface-hub>=0.19.3->gradio) (3.18.0)\n",
      "Requirement already satisfied: requests in ./venv/lib/python3.9/site-packages (from huggingface-hub>=0.19.3->gradio) (2.32.4)\n",
      "Requirement already satisfied: tqdm>=4.42.1 in ./venv/lib/python3.9/site-packages (from huggingface-hub>=0.19.3->gradio) (4.67.1)\n",
      "Requirement already satisfied: hf-xet<2.0.0,>=1.1.3 in ./venv/lib/python3.9/site-packages (from huggingface-hub>=0.19.3->gradio) (1.1.5)\n",
      "Requirement already satisfied: six>=1.5 in ./venv/lib/python3.9/site-packages (from python-dateutil>=2.7->matplotlib~=3.0->gradio) (1.17.0)\n",
      "Requirement already satisfied: markdown-it-py>=2.2.0 in ./venv/lib/python3.9/site-packages (from rich>=10.11.0->typer<1.0,>=0.12->gradio) (3.0.0)\n",
      "Requirement already satisfied: pygments<3.0.0,>=2.13.0 in ./venv/lib/python3.9/site-packages (from rich>=10.11.0->typer<1.0,>=0.12->gradio) (2.19.2)\n",
      "Requirement already satisfied: filelock in ./venv/lib/python3.9/site-packages (from huggingface-hub>=0.19.3->gradio) (3.18.0)\n",
      "Requirement already satisfied: requests in ./venv/lib/python3.9/site-packages (from huggingface-hub>=0.19.3->gradio) (2.32.4)\n",
      "Requirement already satisfied: tqdm>=4.42.1 in ./venv/lib/python3.9/site-packages (from huggingface-hub>=0.19.3->gradio) (4.67.1)\n",
      "Requirement already satisfied: hf-xet<2.0.0,>=1.1.3 in ./venv/lib/python3.9/site-packages (from huggingface-hub>=0.19.3->gradio) (1.1.5)\n",
      "Requirement already satisfied: six>=1.5 in ./venv/lib/python3.9/site-packages (from python-dateutil>=2.7->matplotlib~=3.0->gradio) (1.17.0)\n",
      "Requirement already satisfied: markdown-it-py>=2.2.0 in ./venv/lib/python3.9/site-packages (from rich>=10.11.0->typer<1.0,>=0.12->gradio) (3.0.0)\n",
      "Requirement already satisfied: pygments<3.0.0,>=2.13.0 in ./venv/lib/python3.9/site-packages (from rich>=10.11.0->typer<1.0,>=0.12->gradio) (2.19.2)\n",
      "Requirement already satisfied: mdurl~=0.1 in ./venv/lib/python3.9/site-packages (from markdown-it-py>=2.2.0->rich>=10.11.0->typer<1.0,>=0.12->gradio) (0.1.2)\n",
      "Requirement already satisfied: charset_normalizer<4,>=2 in ./venv/lib/python3.9/site-packages (from requests->huggingface-hub>=0.19.3->gradio) (3.4.2)\n",
      "Requirement already satisfied: mdurl~=0.1 in ./venv/lib/python3.9/site-packages (from markdown-it-py>=2.2.0->rich>=10.11.0->typer<1.0,>=0.12->gradio) (0.1.2)\n",
      "Requirement already satisfied: charset_normalizer<4,>=2 in ./venv/lib/python3.9/site-packages (from requests->huggingface-hub>=0.19.3->gradio) (3.4.2)\n",
      "\n",
      "\u001b[1m[\u001b[0m\u001b[34;49mnotice\u001b[0m\u001b[1;39;49m]\u001b[0m\u001b[39;49m A new release of pip is available: \u001b[0m\u001b[31;49m25.1.1\u001b[0m\u001b[39;49m -> \u001b[0m\u001b[32;49m25.2\u001b[0m\n",
      "\u001b[1m[\u001b[0m\u001b[34;49mnotice\u001b[0m\u001b[1;39;49m]\u001b[0m\u001b[39;49m To update, run: \u001b[0m\u001b[32;49mpip install --upgrade pip\u001b[0m\n",
      "\n",
      "\u001b[1m[\u001b[0m\u001b[34;49mnotice\u001b[0m\u001b[1;39;49m]\u001b[0m\u001b[39;49m A new release of pip is available: \u001b[0m\u001b[31;49m25.1.1\u001b[0m\u001b[39;49m -> \u001b[0m\u001b[32;49m25.2\u001b[0m\n",
      "\u001b[1m[\u001b[0m\u001b[34;49mnotice\u001b[0m\u001b[1;39;49m]\u001b[0m\u001b[39;49m To update, run: \u001b[0m\u001b[32;49mpip install --upgrade pip\u001b[0m\n"
     ]
    },
    {
     "name": "stderr",
     "output_type": "stream",
     "text": [
      "/Users/nipasuma/Projects/gemma-3n-challenge/venv/lib/python3.9/site-packages/urllib3/__init__.py:35: NotOpenSSLWarning: urllib3 v2 only supports OpenSSL 1.1.1+, currently the 'ssl' module is compiled with 'LibreSSL 2.8.3'. See: https://github.com/urllib3/urllib3/issues/3020\n",
      "  warnings.warn(\n",
      "/Users/nipasuma/Projects/gemma-3n-challenge/venv/lib/python3.9/site-packages/tqdm/auto.py:21: TqdmWarning: IProgress not found. Please update jupyter and ipywidgets. See https://ipywidgets.readthedocs.io/en/stable/user_install.html\n",
      "  from .autonotebook import tqdm as notebook_tqdm\n"
     ]
    }
   ],
   "source": [
    "# Install Gradio if not already installed\n",
    "!pip install gradio\n",
    "\n",
    "# Import required libraries\n",
    "import gradio as gr\n",
    "import random\n",
    "import time\n",
    "from datetime import datetime"
   ]
  },
  {
   "cell_type": "markdown",
   "id": "7ec76b57",
   "metadata": {},
   "source": [
    "## 🤖 Define Chatbot Response Logic\n",
    "\n",
    "Let's create a simple chatbot function that can respond to user questions. This example includes some basic responses and can be easily extended with more sophisticated logic or AI models."
   ]
  },
  {
   "cell_type": "code",
   "execution_count": 5,
   "id": "47b024d2",
   "metadata": {},
   "outputs": [
    {
     "name": "stdout",
     "output_type": "stream",
     "text": [
      "Chatbot function is ready! 🤖\n"
     ]
    }
   ],
   "source": [
    "def chatbot_response(message, history):\n",
    "    \"\"\"\n",
    "    Simple chatbot function that responds to user messages.\n",
    "    \n",
    "    Args:\n",
    "        message (str): The user's input message\n",
    "        history (list): Chat history (list of [user_msg, bot_msg] pairs)\n",
    "    \n",
    "    Returns:\n",
    "        str: Bot response\n",
    "    \"\"\"\n",
    "    \n",
    "    # Convert message to lowercase for easier matching\n",
    "    msg_lower = message.lower()\n",
    "    \n",
    "    # Default responses for unmatched messages\n",
    "    default_responses = [\n",
    "        f'Thanks for sharing: \"{message}\". How can I help you further?',\n",
    "        f'I see you mentioned \"{message}\". What would you like to know about it?',\n",
    "        f'Interesting! Tell me more about \"{message}\" or ask me a specific question.',\n",
    "        'I\\'m here to help! Could you rephrase your question or ask me something specific?',\n",
    "        'That\\'s an interesting topic! What specific aspect would you like to discuss?'\n",
    "    ]\n",
    "    \n",
    "    return random.choice(default_responses)\n",
    "\n",
    "# Test the function\n",
    "print(\"Chatbot function is ready! 🤖\")"
   ]
  },
  {
   "cell_type": "markdown",
   "id": "46bacbc5",
   "metadata": {},
   "source": [
    "## 🎨 Create Chat Interface with Gradio\n",
    "\n",
    "Now let's create a beautiful chat interface using Gradio's ChatInterface. This will provide a modern, WhatsApp-like chat experience."
   ]
  },
  {
   "cell_type": "code",
   "execution_count": 6,
   "id": "d35d6bd0",
   "metadata": {},
   "outputs": [
    {
     "name": "stdout",
     "output_type": "stream",
     "text": [
      "Chat interface created! 🚀\n"
     ]
    }
   ],
   "source": [
    "# Create the chat interface using Gradio's ChatInterface\n",
    "chat_interface = gr.ChatInterface(\n",
    "    fn=chatbot_response,\n",
    "    title=\"💬 Interactive Chat Assistant\",\n",
    "    description=\"Ask me anything! I'm here to help with your questions.\",\n",
    "    theme=gr.themes.Soft(),\n",
    "    cache_examples=True,\n",
    "    retry_btn=None,\n",
    "    undo_btn=\"🔄 Undo\",\n",
    "    clear_btn=\"🗑️ Clear Chat\",\n",
    "    submit_btn=\"Send ➤\"\n",
    ")\n",
    "\n",
    "print(\"Chat interface created! 🚀\")"
   ]
  },
  {
   "cell_type": "code",
   "execution_count": 9,
   "id": "f716591c",
   "metadata": {},
   "outputs": [
    {
     "name": "stdout",
     "output_type": "stream",
     "text": [
      "gradio                 4.44.1\n",
      "gradio_client          1.3.0\n"
     ]
    }
   ],
   "source": [
    "! pip list | grep gradio"
   ]
  },
  {
   "cell_type": "markdown",
   "id": "4dbfa095",
   "metadata": {},
   "source": [
    "## 🚀 Launch the Chatbot UI\n",
    "\n",
    "Ready to start chatting! Run the cell below to launch the interactive chat interface. The UI will appear below the cell, and you can start typing your questions immediately."
   ]
  },
  {
   "cell_type": "code",
   "execution_count": 7,
   "id": "ced3de1c",
   "metadata": {},
   "outputs": [
    {
     "name": "stdout",
     "output_type": "stream",
     "text": [
      "Running on local URL:  http://127.0.0.1:7861\n",
      "\n",
      "To create a public link, set `share=True` in `launch()`.\n"
     ]
    },
    {
     "data": {
      "text/html": [
       "<div><iframe src=\"http://127.0.0.1:7861/\" width=\"100%\" height=\"500\" allow=\"autoplay; camera; microphone; clipboard-read; clipboard-write;\" frameborder=\"0\" allowfullscreen></iframe></div>"
      ],
      "text/plain": [
       "<IPython.core.display.HTML object>"
      ]
     },
     "metadata": {},
     "output_type": "display_data"
    },
    {
     "data": {
      "text/plain": []
     },
     "execution_count": 7,
     "metadata": {},
     "output_type": "execute_result"
    }
   ],
   "source": [
    "# Launch the chat interface\n",
    "# In Google Colab, this will display the interface directly in the notebook\n",
    "# In other environments, it will provide a shareable link\n",
    "chat_interface.launch(\n",
    "    inline=True,  # Display inline in the notebook\n",
    "    share=False,  # Set to True if you want a shareable public link\n",
    "    debug=False,  # Set to True for debugging information\n",
    "    show_error=True  # Show errors in the interface\n",
    ")"
   ]
  },
  {
   "cell_type": "markdown",
   "id": "d5987450",
   "metadata": {},
   "source": [
    "## 📝 How to Use\n",
    "\n",
    "1. **Run all cells above** - Execute each cell in order to set up the chat interface\n",
    "2. **Start chatting** - Type your question in the text input box that appears after running the launch cell\n",
    "3. **Try the examples** - Click on any of the example questions to get started quickly\n",
    "4. **Clear the chat** - Use the \"🗑️ Clear Chat\" button to start a fresh conversation\n",
    "5. **Undo messages** - Use the \"🔄 Undo\" button to remove the last exchange\n",
    "\n",
    "## 🔧 Customization Ideas\n",
    "\n",
    "You can easily customize this chat interface by:\n",
    "\n",
    "- **Connecting to AI models** - Replace the `chatbot_response` function with calls to OpenAI, Hugging Face, or other AI APIs\n",
    "- **Adding more responses** - Expand the predefined responses dictionary\n",
    "- **Changing the theme** - Try different Gradio themes like `gr.themes.Glass()` or `gr.themes.Monochrome()`\n",
    "- **Adding file uploads** - Extend the interface to handle file uploads for document Q&A\n",
    "- **Persistent memory** - Add database storage to remember conversation history across sessions\n",
    "\n",
    "Happy chatting! 🎉"
   ]
  }
 ],
 "metadata": {
  "kernelspec": {
   "display_name": "venv",
   "language": "python",
   "name": "python3"
  },
  "language_info": {
   "codemirror_mode": {
    "name": "ipython",
    "version": 3
   },
   "file_extension": ".py",
   "mimetype": "text/x-python",
   "name": "python",
   "nbconvert_exporter": "python",
   "pygments_lexer": "ipython3",
   "version": "3.9.6"
  }
 },
 "nbformat": 4,
 "nbformat_minor": 5
}
